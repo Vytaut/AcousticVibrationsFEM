{
 "cells": [
  {
   "cell_type": "code",
   "execution_count": 1,
   "metadata": {},
   "outputs": [],
   "source": [
    "import numpy as np\n",
    "import scipy\n",
    "import matplotlib\n",
    "import matplotlib.pyplot as plt\n",
    "\n",
    "import numpy.polynomial.polynomial as poly\n",
    "from scipy.integrate import quad\n",
    "import scipy.misc as misc"
   ]
  },
  {
   "cell_type": "code",
   "execution_count": 2,
   "metadata": {},
   "outputs": [
    {
     "name": "stdout",
     "output_type": "stream",
     "text": [
      "3.0\n"
     ]
    }
   ],
   "source": []
  },
  {
   "cell_type": "code",
   "execution_count": 3,
   "metadata": {},
   "outputs": [
    {
     "ename": "NameError",
     "evalue": "name 'integral' is not defined",
     "output_type": "error",
     "traceback": [
      "\u001b[1;31m---------------------------------------------------------------------------\u001b[0m",
      "\u001b[1;31mNameError\u001b[0m                                 Traceback (most recent call last)",
      "\u001b[1;32m<ipython-input-3-563c0aa6f485>\u001b[0m in \u001b[0;36m<module>\u001b[1;34m\u001b[0m\n\u001b[1;32m----> 1\u001b[1;33m \u001b[0mprint\u001b[0m\u001b[1;33m(\u001b[0m\u001b[0mintegral\u001b[0m\u001b[1;33m.\u001b[0m\u001b[0mquad\u001b[0m\u001b[1;33m(\u001b[0m\u001b[0mtest\u001b[0m\u001b[1;33m,\u001b[0m\u001b[1;36m0\u001b[0m\u001b[1;33m,\u001b[0m\u001b[1;36m1\u001b[0m\u001b[1;33m)\u001b[0m\u001b[1;33m)\u001b[0m \u001b[1;31m#integral use\u001b[0m\u001b[1;33m\u001b[0m\u001b[1;33m\u001b[0m\u001b[0m\n\u001b[0m",
      "\u001b[1;31mNameError\u001b[0m: name 'integral' is not defined"
     ]
    }
   ],
   "source": []
  },
  {
   "cell_type": "code",
   "execution_count": 4,
   "metadata": {},
   "outputs": [
    {
     "name": "stdout",
     "output_type": "stream",
     "text": [
      "2.0\n",
      "poly([2.])\n"
     ]
    }
   ],
   "source": []
  },
  {
   "cell_type": "code",
   "execution_count": 8,
   "metadata": {},
   "outputs": [],
   "source": [
    "epsilon = 0.00001\n",
    "N = 30\n",
    "rangeLen = 2.0"
   ]
  },
  {
   "cell_type": "code",
   "execution_count": 9,
   "metadata": {},
   "outputs": [],
   "source": [
    "def spanishU(x):\n",
    "    return x\n",
    "\n",
    "def derSpanishU(x):\n",
    "    return 1\n",
    "\n",
    "def B(w,v,derW,derV):\n",
    "    x = w(2)*v(2)\n",
    "    y = quad(lambda x : derW(x)*derV(x),0,2)[0]\n",
    "    z = quad(lambda x: w(x)*v(x),0,2)[0]\n",
    "    return (w(2)*v(2) - quad(lambda x : derW(x)*derV(x),0,2)[0] + quad(lambda x: w(x)*v(x),0,2)[0])\n",
    "\n",
    "def L(v,derV):\n",
    "    return (spanishU(2)*v(2) - quad(lambda x: derSpanishU(x)*derV(x),0,2)[0] + quad(lambda x: spanishU(x)*v(x),0,2)[0])\n",
    "\n",
    "def e(x,i):\n",
    "    h = rangeLen/N\n",
    "    if abs(x-(i*h)) > h or x < 0 or x > 2:\n",
    "        return 0\n",
    "    elif x < i*h:\n",
    "        return (N/2)*x - (i-1)\n",
    "    elif x >= i*h:\n",
    "        return -(N/2)*x + (i+1)\n",
    "    \n",
    "def getE(i):\n",
    "    return lambda x: e(x,i)\n",
    "\n",
    "def derE(x,i):\n",
    "    h = rangeLen/N\n",
    "    if abs(x-(i*h)) > h or x < 0 or x > 2:\n",
    "        return 0\n",
    "    if x < i*h:\n",
    "        return (N/2)\n",
    "    if x >= i*h:\n",
    "        return -(N/2)\n",
    "    \n",
    "def getDerE(i):\n",
    "    return lambda x: derE(x,i)"
   ]
  },
  {
   "cell_type": "code",
   "execution_count": 11,
   "metadata": {},
   "outputs": [
    {
     "name": "stderr",
     "output_type": "stream",
     "text": [
      "C:\\Users\\witol\\AppData\\Local\\Programs\\Python\\Python37\\lib\\site-packages\\ipykernel_launcher.py:9: IntegrationWarning: The maximum number of subdivisions (50) has been achieved.\n",
      "  If increasing the limit yields no improvement it is advised to analyze \n",
      "  the integrand in order to determine the difficulties.  If the position of a \n",
      "  local difficulty can be determined (singularity, discontinuity) one will \n",
      "  probably gain from splitting up the interval and calling the integrator \n",
      "  on the subranges.  Perhaps a special-purpose integrator should be used.\n",
      "  if __name__ == '__main__':\n",
      "C:\\Users\\witol\\AppData\\Local\\Programs\\Python\\Python37\\lib\\site-packages\\ipykernel_launcher.py:11: IntegrationWarning: The maximum number of subdivisions (50) has been achieved.\n",
      "  If increasing the limit yields no improvement it is advised to analyze \n",
      "  the integrand in order to determine the difficulties.  If the position of a \n",
      "  local difficulty can be determined (singularity, discontinuity) one will \n",
      "  probably gain from splitting up the interval and calling the integrator \n",
      "  on the subranges.  Perhaps a special-purpose integrator should be used.\n",
      "  # This is added back by InteractiveShellApp.init_path()\n",
      "C:\\Users\\witol\\AppData\\Local\\Programs\\Python\\Python37\\lib\\site-packages\\ipykernel_launcher.py:14: IntegrationWarning: The integral is probably divergent, or slowly convergent.\n",
      "  \n",
      "C:\\Users\\witol\\AppData\\Local\\Programs\\Python\\Python37\\lib\\site-packages\\ipykernel_launcher.py:14: IntegrationWarning: The maximum number of subdivisions (50) has been achieved.\n",
      "  If increasing the limit yields no improvement it is advised to analyze \n",
      "  the integrand in order to determine the difficulties.  If the position of a \n",
      "  local difficulty can be determined (singularity, discontinuity) one will \n",
      "  probably gain from splitting up the interval and calling the integrator \n",
      "  on the subranges.  Perhaps a special-purpose integrator should be used.\n",
      "  \n"
     ]
    },
    {
     "data": {
      "image/png": "[encoded data removed]",
      "text/plain": [
       "<Figure size 432x288 with 1 Axes>"
      ]
     },
     "metadata": {
      "needs_background": "light"
     },
     "output_type": "display_data"
    }
   ],
   "source": [
    "def createBMatrix():\n",
    "    BMatrix = np.zeros((N,N))\n",
    "    BMatrix[0][0] = 1\n",
    "    for i in range(2,N+1):\n",
    "        for j in range(2,N+1):\n",
    "            ei = getE(i)\n",
    "            derEi = getDerE(i)\n",
    "            ej = getE(j)\n",
    "            derEj = getDerE(j)\n",
    "            BMatrix[i-1][j-1] = B(ei,ej,derEi,derEj)     \n",
    "    return BMatrix\n",
    "\n",
    "def createLMatrix():\n",
    "    LMatrix = np.zeros((N,1))\n",
    "    LMatrix[0][0] = 0\n",
    "    for i in range(2,N+1):\n",
    "        ei = getE(i)\n",
    "        derEi = getDerE(i)\n",
    "        LMatrix[i-1][0] = L(ei,derEi)\n",
    "    return LMatrix\n",
    "\n",
    "def getWeightMatrix(BMatrix,LMatrix):\n",
    "    return np.linalg.solve(BMatrix,LMatrix)\n",
    "\n",
    "def getSolution():\n",
    "    weights = getWeightMatrix(createBMatrix(),createLMatrix())\n",
    "    return lambda x: sum([weights[i-1] * e(x,i) for i in range(1,N+1)])\n",
    "\n",
    "def showSolution(u):\n",
    "    x = []\n",
    "    y = []\n",
    "    for i in range (0,N+1):\n",
    "        x.append(2*i/N)\n",
    "        y.append(u(2*i/N))\n",
    "    plt.plot(x,y)\n",
    "    plt.show()\n",
    "    \n",
    "showSolution(getSolution())"
   ]
  },
  {
   "cell_type": "code",
   "execution_count": null,
   "metadata": {},
   "outputs": [],
   "source": []
  },
  {
   "cell_type": "code",
   "execution_count": null,
   "metadata": {},
   "outputs": [],
   "source": []
  }
 ],
 "metadata": {
  "kernelspec": {
   "display_name": "Python 3",
   "language": "python",
   "name": "python3"
  },
  "language_info": {
   "codemirror_mode": {
    "name": "ipython",
    "version": 3
   },
   "file_extension": ".py",
   "mimetype": "text/x-python",
   "name": "python",
   "nbconvert_exporter": "python",
   "pygments_lexer": "ipython3",
   "version": "3.7.3"
  }
 },
 "nbformat": 4,
 "nbformat_minor": 4
}
