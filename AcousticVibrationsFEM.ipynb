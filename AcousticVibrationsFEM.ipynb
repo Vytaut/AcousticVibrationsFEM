{
 "cells": [
  {
   "cell_type": "code",
   "execution_count": 134,
   "metadata": {},
   "outputs": [],
   "source": [
    "import numpy as np\n",
    "import scipy\n",
    "import matplotlib\n",
    "import matplotlib.pyplot as plt\n",
    "\n",
    "import numpy.polynomial.polynomial as poly\n",
    "from scipy.integrate import quad\n",
    "import scipy.misc as misc"
   ]
  },
  {
   "cell_type": "code",
   "execution_count": 17,
   "metadata": {},
   "outputs": [
    {
     "name": "stdout",
     "output_type": "stream",
     "text": [
      "3.0\n"
     ]
    }
   ],
   "source": [
    "test = poly.Polynomial((1,2)) #1+2*x\n",
    "print(test(1))"
   ]
  },
  {
   "cell_type": "code",
   "execution_count": 18,
   "metadata": {},
   "outputs": [
    {
     "name": "stdout",
     "output_type": "stream",
     "text": [
      "(2.0, 2.220446049250313e-14)\n"
     ]
    }
   ],
   "source": [
    "print(integral.quad(test,0,1)) #integral use"
   ]
  },
  {
   "cell_type": "code",
   "execution_count": 19,
   "metadata": {},
   "outputs": [
    {
     "name": "stdout",
     "output_type": "stream",
     "text": [
      "2.0\n",
      "poly([2.])\n"
     ]
    }
   ],
   "source": [
    "print(misc.derivative(test,2)) #derivative use\n",
    "test2 = test.deriv() #derivative use\n",
    "print(test2)"
   ]
  },
  {
   "cell_type": "code",
   "execution_count": 109,
   "metadata": {},
   "outputs": [],
   "source": [
    "epsilon = 0.00001\n",
    "N = 3\n",
    "rangeLen = 2.0"
   ]
  },
  {
   "cell_type": "code",
   "execution_count": 119,
   "metadata": {},
   "outputs": [],
   "source": [
    "def spanishU(x):\n",
    "    return x\n",
    "\n",
    "def derSpanishU(x):\n",
    "    return 1\n",
    "\n",
    "def B(w,v,derW,derV):\n",
    "    x = w(2)*v(2)\n",
    "    y = quad(lambda x : derW(x)*derV(x),0,2)[0]\n",
    "    z = quad(lambda x: w(x)*v(x),0,2)[0]\n",
    "    return (w(2)*v(2) - quad(lambda x : derW(x)*derV(x),0,2)[0] + quad(lambda x: w(x)*v(x),0,2)[0])\n",
    "\n",
    "def L(v,derV):\n",
    "    return (spanishU(2)*v(2) - quad(lambda x: derSpanishU(x)*derV(x),0,2)[0] + quad(lambda x: spanishU(x)*v(x),0,2)[0])\n",
    "\n",
    "def e(x,i):\n",
    "    h = rangeLen/N\n",
    "    if abs(x-(i*h)) > h or x < 0 or x > 2:\n",
    "        return 0\n",
    "    elif x < i*h:\n",
    "        return (N/2)*x - (i-1)\n",
    "    elif x >= i*h:\n",
    "        return -(N/2)*x + (i+1)\n",
    "    \n",
    "def getE(i):\n",
    "    return lambda x: e(x,i)\n",
    "\n",
    "def derE(x,i):\n",
    "    h = rangeLen/N\n",
    "    if abs(x-(i*h)) > h or x < 0 or x > 2:\n",
    "        return 0\n",
    "    if x < i*h:\n",
    "        return (N/2)\n",
    "    if x >= i*h:\n",
    "        return -(N/2)\n",
    "    \n",
    "def getDerE(i):\n",
    "    return lambda x: eDer(x,i)"
   ]
  },
  {
   "cell_type": "code",
   "execution_count": 135,
   "metadata": {},
   "outputs": [
    {
     "ename": "SyntaxError",
     "evalue": "invalid syntax (<ipython-input-135-5220e6cfa95c>, line 38)",
     "output_type": "error",
     "traceback": [
      "\u001b[1;36m  File \u001b[1;32m\"<ipython-input-135-5220e6cfa95c>\"\u001b[1;36m, line \u001b[1;32m38\u001b[0m\n\u001b[1;33m    for i in range (0)\u001b[0m\n\u001b[1;37m                      ^\u001b[0m\n\u001b[1;31mSyntaxError\u001b[0m\u001b[1;31m:\u001b[0m invalid syntax\n"
     ]
    }
   ],
   "source": [
    "def createBMatrix():\n",
    "    BMatrix = np.zeros((N,N))\n",
    "    BMatrix[0][0] = 1\n",
    "    for i in range(2,N+1):\n",
    "        for j in range(2,N+1):\n",
    "            ei = getE(i)\n",
    "            derEi = getDerE(i)\n",
    "            ej = getE(j)\n",
    "            derEj = getDerE(j)\n",
    "            BMatrix[i-1][j-1] = B(ei,ej,derEi,derEj)\n",
    "            print(i-1,j-1)\n",
    "    return BMatrix\n",
    "\n",
    "print(createBMatrix())\n",
    "\n",
    "def createLMatrix():\n",
    "    LMatrix = np.zeros((N,1))\n",
    "    print(LMatrix)\n",
    "    LMatrix[0][0] = 0\n",
    "    for i in range(2,N+1):\n",
    "        ei = getE(i)\n",
    "        derEi = getDerE(i)\n",
    "        LMatrix[i-1][0] = L(ei,derEi)\n",
    "    return LMatrix\n",
    "    \n",
    "print(createLMatrix())\n",
    "\n",
    "def getWeightMatrix(BMatrix,LMatrix):\n",
    "    return np.linalg.solve(BMatrix,LMatrix)\n",
    "\n",
    "print(getWeightMatrix(createBMatrix(),createLMatrix()))\n",
    "\n",
    "def getSolution():\n",
    "    weigths = getWeightMatrix(createBMatrix(),createLMatrix())\n",
    "    return lambda x: sum([weights[i] * e(x,i) for i in range(0,N)])\n",
    "\n",
    "def showSolution(u):\n",
    "    for i in range (0)"
   ]
  }
 ],
 "metadata": {
  "kernelspec": {
   "display_name": "Python 3",
   "language": "python",
   "name": "python3"
  },
  "language_info": {
   "codemirror_mode": {
    "name": "ipython",
    "version": 3
   },
   "file_extension": ".py",
   "mimetype": "text/x-python",
   "name": "python",
   "nbconvert_exporter": "python",
   "pygments_lexer": "ipython3",
   "version": "3.7.3"
  }
 },
 "nbformat": 4,
 "nbformat_minor": 4
}
