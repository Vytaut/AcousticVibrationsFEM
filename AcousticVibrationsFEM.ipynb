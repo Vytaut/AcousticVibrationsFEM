{
 "cells": [
  {
   "cell_type": "code",
   "execution_count": 1,
   "metadata": {},
   "outputs": [],
   "source": [
    "import numpy as np\n",
    "import scipy\n",
    "import matplotlib\n",
    "import matplotlib.pyplot as plt\n",
    "\n",
    "import numpy.polynomial.polynomial as poly\n",
    "from scipy.integrate import quad\n",
    "import scipy.misc as misc"
   ]
  },
  {
   "cell_type": "code",
   "execution_count": null,
   "metadata": {},
   "outputs": [],
   "source": []
  },
  {
   "cell_type": "code",
   "execution_count": null,
   "metadata": {},
   "outputs": [],
   "source": []
  },
  {
   "cell_type": "code",
   "execution_count": null,
   "metadata": {},
   "outputs": [],
   "source": []
  },
  {
   "cell_type": "code",
   "execution_count": 19,
   "metadata": {},
   "outputs": [],
   "source": [
    "N = 7"
   ]
  },
  {
   "cell_type": "code",
   "execution_count": 3,
   "metadata": {},
   "outputs": [],
   "source": [
    "def spanishU(x):\n",
    "    return x\n",
    "\n",
    "def derSpanishU(x):\n",
    "    return 1\n",
    "\n",
    "def B(w,v,derW,derV):\n",
    "    return (w(2)*v(2) - quad(lambda x : derW(x)*derV(x),0,2)[0] + quad(lambda x: w(x)*v(x),0,2)[0])\n",
    "\n",
    "def L(v,derV):\n",
    "    return (spanishU(2)*v(2) - quad(lambda x: derSpanishU(x)*derV(x),0,2)[0] + quad(lambda x: spanishU(x)*v(x),0,2)[0])\n",
    "\n",
    "def e(x,i):\n",
    "    h = 2/N\n",
    "    if abs(x-(i*h)) > h or x < 0 or x > 2:\n",
    "        return 0\n",
    "    elif x < i*h:\n",
    "        return (N/2)*x - (i-1)\n",
    "    elif x >= i*h:\n",
    "        return -(N/2)*x + (i+1)\n",
    "    \n",
    "def getE(i):\n",
    "    return lambda x: e(x,i)\n",
    "\n",
    "def derE(x,i):\n",
    "    h = 2/N\n",
    "    if abs(x-(i*h)) > h or x < 0 or x > 2:\n",
    "        return 0\n",
    "    if x < i*h:\n",
    "        return (N/2)\n",
    "    if x >= i*h:\n",
    "        return -(N/2)\n",
    "    \n",
    "def getDerE(i):\n",
    "    return lambda x: derE(x,i)"
   ]
  },
  {
   "cell_type": "code",
   "execution_count": 20,
   "metadata": {},
   "outputs": [
    {
     "name": "stdout",
     "output_type": "stream",
     "text": [
      "[[ 1.          0.          0.          0.          0.          0.\n",
      "   0.        ]\n",
      " [ 0.         -6.80952381  3.54761905  0.          0.          0.\n",
      "   0.        ]\n",
      " [ 0.          3.54761905 -6.80952381  3.54761905  0.          0.\n",
      "   0.        ]\n",
      " [ 0.          0.          3.54761905 -6.80952381  3.54761905  0.\n",
      "   0.        ]\n",
      " [ 0.          0.          0.          3.54761905 -6.80952381  3.54761905\n",
      "   0.        ]\n",
      " [ 0.          0.          0.          0.          3.54761905 -6.80952381\n",
      "   3.54761905]\n",
      " [ 0.          0.          0.          0.          0.          3.54761905\n",
      "  -2.4047619 ]]\n",
      "[[0.        ]\n",
      " [0.16326531]\n",
      " [0.24489796]\n",
      " [0.32653061]\n",
      " [0.40816327]\n",
      " [0.48979592]\n",
      " [1.27210884]]\n",
      "[[0.        ]\n",
      " [0.35772792]\n",
      " [0.73266662]\n",
      " [1.11763026]\n",
      " [1.5046256 ]\n",
      " [1.88549576]\n",
      " [2.2525772 ]]\n",
      "[0.]\n",
      "[0.]\n",
      "[0.35772792]\n",
      "[0.73266662]\n",
      "[1.11763026]\n",
      "[1.5046256]\n",
      "[1.88549576]\n",
      "[2.2525772]\n"
     ]
    },
    {
     "data": {
      "image/png": "[encoded data removed]",
      "text/plain": [
       "<Figure size 432x288 with 1 Axes>"
      ]
     },
     "metadata": {
      "needs_background": "light"
     },
     "output_type": "display_data"
    }
   ],
   "source": [
    "def createBMatrix():\n",
    "    BMatrix = np.zeros((N,N))\n",
    "    BMatrix[0][0] = 1\n",
    "    for i in range(2,N+1):\n",
    "        for j in range(2,N+1):\n",
    "            ei = getE(i)\n",
    "            derEi = getDerE(i)\n",
    "            ej = getE(j)\n",
    "            derEj = getDerE(j)\n",
    "            BMatrix[i-1][j-1] = B(ei,ej,derEi,derEj)     \n",
    "    print(BMatrix)\n",
    "    return BMatrix\n",
    "\n",
    "def createLMatrix():\n",
    "    LMatrix = np.zeros((N,1))\n",
    "    LMatrix[0][0] = 0\n",
    "    for i in range(2,N+1):\n",
    "        ei = getE(i)\n",
    "        derEi = getDerE(i)\n",
    "        LMatrix[i-1][0] = L(ei,derEi)\n",
    "    print(LMatrix)\n",
    "    return LMatrix\n",
    "\n",
    "def getWeightMatrix(BMatrix,LMatrix):\n",
    "    return np.linalg.solve(BMatrix,LMatrix)\n",
    "\n",
    "def getSolution():\n",
    "    weights = getWeightMatrix(createBMatrix(),createLMatrix())\n",
    "    print(weights)\n",
    "    return lambda x: sum([weights[i-1] * e(x,i) for i in range(1,N+1)])\n",
    "\n",
    "def showSolution(u):\n",
    "    x = []\n",
    "    y = []\n",
    "    for i in range (0,N+1):\n",
    "        x.append(2*i/N)\n",
    "        y.append(u(2*i/N))\n",
    "        print(u(2*i/N))\n",
    "    plt.plot(x,y)\n",
    "    plt.show()\n",
    "    \n",
    "showSolution(getSolution())"
   ]
  },
  {
   "cell_type": "code",
   "execution_count": null,
   "metadata": {},
   "outputs": [],
   "source": []
  },
  {
   "cell_type": "code",
   "execution_count": null,
   "metadata": {},
   "outputs": [],
   "source": []
  }
 ],
 "metadata": {
  "kernelspec": {
   "display_name": "Python 3",
   "language": "python",
   "name": "python3"
  },
  "language_info": {
   "codemirror_mode": {
    "name": "ipython",
    "version": 3
   },
   "file_extension": ".py",
   "mimetype": "text/x-python",
   "name": "python",
   "nbconvert_exporter": "python",
   "pygments_lexer": "ipython3",
   "version": "3.7.3"
  }
 },
 "nbformat": 4,
 "nbformat_minor": 4
}
