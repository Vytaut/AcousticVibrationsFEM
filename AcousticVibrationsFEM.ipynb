{
 "cells": [
  {
   "cell_type": "code",
   "execution_count": 22,
   "metadata": {},
   "outputs": [],
   "source": [
    "import numpy as np\n",
    "import scipy\n",
    "import matplotlib\n",
    "\n",
    "import numpy.polynomial.polynomial as poly\n",
    "from scipy.integrate import quad\n",
    "import scipy.misc as misc"
   ]
  },
  {
   "cell_type": "code",
   "execution_count": 17,
   "metadata": {},
   "outputs": [
    {
     "name": "stdout",
     "output_type": "stream",
     "text": [
      "3.0\n"
     ]
    }
   ],
   "source": [
    "test = poly.Polynomial((1,2)) #1+2*x\n",
    "print(test(1))"
   ]
  },
  {
   "cell_type": "code",
   "execution_count": 18,
   "metadata": {},
   "outputs": [
    {
     "name": "stdout",
     "output_type": "stream",
     "text": [
      "(2.0, 2.220446049250313e-14)\n"
     ]
    }
   ],
   "source": [
    "print(integral.quad(test,0,1)) #integral use"
   ]
  },
  {
   "cell_type": "code",
   "execution_count": 19,
   "metadata": {},
   "outputs": [
    {
     "name": "stdout",
     "output_type": "stream",
     "text": [
      "2.0\n",
      "poly([2.])\n"
     ]
    }
   ],
   "source": [
    "print(misc.derivative(test,2)) #derivative use\n",
    "test2 = test.deriv() #derivative use\n",
    "print(test2)"
   ]
  },
  {
   "cell_type": "code",
   "execution_count": 43,
   "metadata": {},
   "outputs": [],
   "source": [
    "epsilon = 0.00001\n",
    "N = 3\n",
    "rangeLen = 2"
   ]
  },
  {
   "cell_type": "code",
   "execution_count": 46,
   "metadata": {},
   "outputs": [],
   "source": [
    "def spanishU(x):\n",
    "    return x\n",
    "\n",
    "def B(w,v,derW,derV):\n",
    "    return (w(2)*v(2) - integral.quad(derW*derV,0,2)[0] + integral.quad(w*v,0,2)[0])\n",
    "\n",
    "def L(v,derV):\n",
    "    return (spanishU(2)*v(2) - integral.quad(spanishU.deriv()*derV,0,2)[0] + integral.quad(spanishU*v,0,2)[0])\n",
    "\n",
    "def e(x,i):\n",
    "    h = rangeLen/N\n",
    "    if abs(x-(i*h)) > h or x < 0 or x > 2:\n",
    "        return 0\n",
    "    if x < i*h:\n",
    "        return (N/2)*x - (i-1)\n",
    "    if x > i*h:\n",
    "        return -(N/2)*x + (i+1)\n",
    "    \n",
    "def getE(i):\n",
    "    return lambda x: e(x,i)\n",
    "\n",
    "def derE(x,i):\n",
    "    h = rangeLen/N\n",
    "    if abs(x-(i*h)) > h or x < 0 or x > 2:\n",
    "        return 0\n",
    "    if x < i*h:\n",
    "        return (N/2)\n",
    "    if x > i*h:\n",
    "        return -(N/2)\n",
    "    \n",
    "def getDerE(i):\n",
    "    return lambda x: eDer(x,i)"
   ]
  },
  {
   "cell_type": "code",
   "execution_count": 45,
   "metadata": {},
   "outputs": [],
   "source": [
    "def createBMatrix():\n",
    "    BMatrix = numpy.zeros((N+1,N+1))\n",
    "    BMatrix[0][0] = 1\n",
    "    for i in range(1,N+1):\n",
    "        for j in range(1,N+1):\n",
    "            ei = getE(i)\n",
    "            derEi = getDerE(i)\n",
    "            ej = getE(j)\n",
    "            derEj = getDerE(j)\n",
    "            BMatrix[i][j] = B(ei,derEi,ej,derEj)\n",
    "    return BMatrix\n",
    "\n",
    "def createLMatrix()"
   ]
  }
 ],
 "metadata": {
  "kernelspec": {
   "display_name": "Python 3",
   "language": "python",
   "name": "python3"
  },
  "language_info": {
   "codemirror_mode": {
    "name": "ipython",
    "version": 3
   },
   "file_extension": ".py",
   "mimetype": "text/x-python",
   "name": "python",
   "nbconvert_exporter": "python",
   "pygments_lexer": "ipython3",
   "version": "3.7.3"
  }
 },
 "nbformat": 4,
 "nbformat_minor": 4
}
