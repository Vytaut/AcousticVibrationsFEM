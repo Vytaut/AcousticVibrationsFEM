{
 "cells": [
  {
   "cell_type": "code",
   "execution_count": 1,
   "metadata": {},
   "outputs": [],
   "source": [
    "import numpy as np\n",
    "import math\n",
    "import scipy\n",
    "import matplotlib\n",
    "import matplotlib.pyplot as plt\n",
    "\n",
    "import numpy.polynomial.polynomial as poly\n",
    "#from scipy.integrate import quad\n",
    "import scipy.misc as misc"
   ]
  },
  {
   "cell_type": "code",
   "execution_count": 21,
   "metadata": {},
   "outputs": [],
   "source": [
    "N = 100\n",
    "h = 2/(N+1)"
   ]
  },
  {
   "cell_type": "code",
   "execution_count": 8,
   "metadata": {},
   "outputs": [],
   "source": [
    "def quad(f,begin,end):\n",
    "    wages = [-1/math.sqrt(3),1/math.sqrt(3)]\n",
    "    intervalDif = (end-begin)/2\n",
    "    intervalSum = (end+begin)/2\n",
    "    fSum = 0\n",
    "    for w in wages:\n",
    "        fSum += f(intervalDif*w + intervalSum)\n",
    "    return intervalSum*fSum"
   ]
  },
  {
   "cell_type": "code",
   "execution_count": 9,
   "metadata": {},
   "outputs": [],
   "source": [
    "def spanishU(x):\n",
    "    return x\n",
    "\n",
    "def derSpanishU(x):\n",
    "    return 1\n",
    "\n",
    "def B(w,v,derW,derV):\n",
    "    return (w(2)*v(2) - quad(lambda x : derW(x)*derV(x),0,2) + quad(lambda x: w(x)*v(x),0,2))\n",
    "\n",
    "def L(v,derV):\n",
    "    return (spanishU(2)*v(2) - quad(lambda x: derSpanishU(x)*derV(x),0,2) + quad(lambda x: spanishU(x)*v(x),0,2))\n",
    "\n",
    "def e(x,i):\n",
    "    if abs(x-((i-1)*h)) > h or x < 0 or x > 2:\n",
    "        return 0\n",
    "    elif x < (i-1)*h:\n",
    "        return (N/2)*x - (i-1)\n",
    "    elif x >= (i-1)*h:\n",
    "        return -(N/2)*x + (i+1)\n",
    "    \n",
    "def getE(i):\n",
    "    return lambda x: e(x,i)\n",
    "\n",
    "def derE(x,i):\n",
    "    if abs(x-((i-1)*h)) > h or x < 0 or x > 2:\n",
    "        return 0\n",
    "    if x < (i-1)*h:\n",
    "        return (N/2)\n",
    "    if x >= (i-1)*h:\n",
    "        return -(N/2)\n",
    "    \n",
    "def getDerE(i):\n",
    "    return lambda x: derE(x,i)"
   ]
  },
  {
   "cell_type": "code",
   "execution_count": 22,
   "metadata": {},
   "outputs": [
    {
     "name": "stderr",
     "output_type": "stream",
     "text": [
      "C:\\Users\\witol\\AppData\\Local\\Programs\\Python\\Python37\\lib\\site-packages\\ipykernel_launcher.py:25: FutureWarning: `rcond` parameter will change to the default of machine precision times ``max(M, N)`` where M and N are the input matrix dimensions.\n",
      "To use the future default and silence this warning we advise to pass `rcond=None`, to keep using the old, explicitly pass `rcond=-1`.\n"
     ]
    },
    {
     "data": {
      "image/png": "[encoded data removed]",
      "text/plain": [
       "<Figure size 432x288 with 1 Axes>"
      ]
     },
     "metadata": {
      "needs_background": "light"
     },
     "output_type": "display_data"
    }
   ],
   "source": [
    "def createBMatrix():\n",
    "    BMatrix = np.zeros((N,N))\n",
    "    BMatrix[0][0] = 1\n",
    "    for i in range(2,N+1):\n",
    "        for j in range(2,N+1):\n",
    "            ei = getE(i)\n",
    "            derEi = getDerE(i)\n",
    "            ej = getE(j)\n",
    "            derEj = getDerE(j)\n",
    "            BMatrix[i-1][j-1] = B(ei,ej,derEi,derEj)     \n",
    "    #print(BMatrix)\n",
    "    return BMatrix\n",
    "\n",
    "def createLMatrix():\n",
    "    LMatrix = np.zeros((N,1))\n",
    "    LMatrix[0][0] = 0\n",
    "    for i in range(2,N+1):\n",
    "        ei = getE(i)\n",
    "        derEi = getDerE(i)\n",
    "        LMatrix[i-1][0] = L(ei,derEi)\n",
    "    #print(LMatrix)\n",
    "    return LMatrix\n",
    "\n",
    "def getWeightMatrix(BMatrix,LMatrix):\n",
    "    return np.linalg.lstsq(BMatrix,LMatrix)[0]\n",
    "\n",
    "def getSolution():\n",
    "    weights = getWeightMatrix(createBMatrix(),createLMatrix())\n",
    "    #print(weights)\n",
    "    return lambda x: sum(weights[i-1] * e(x,i) for i in range(1,N+1))\n",
    "\n",
    "def showSolution(u):\n",
    "    x = []\n",
    "    y = []\n",
    "    for i in range (0,N+1):\n",
    "        x.append(2*i/N)\n",
    "        y.append(u(2*i/N))\n",
    "        #print(u(2*i/N))\n",
    "    plt.plot(x,y)\n",
    "    plt.show()\n",
    "    \n",
    "showSolution(getSolution())"
   ]
  }
 ],
 "metadata": {
  "kernelspec": {
   "display_name": "Python 3",
   "language": "python",
   "name": "python3"
  },
  "language_info": {
   "codemirror_mode": {
    "name": "ipython",
    "version": 3
   },
   "file_extension": ".py",
   "mimetype": "text/x-python",
   "name": "python",
   "nbconvert_exporter": "python",
   "pygments_lexer": "ipython3",
   "version": "3.7.3"
  }
 },
 "nbformat": 4,
 "nbformat_minor": 4
}
