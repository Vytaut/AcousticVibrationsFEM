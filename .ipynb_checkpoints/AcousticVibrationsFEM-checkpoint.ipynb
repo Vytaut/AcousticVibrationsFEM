{
 "cells": [
  {
   "cell_type": "code",
   "execution_count": 7,
   "metadata": {},
   "outputs": [],
   "source": [
    "import numpy as np\n",
    "import scipy\n",
    "import matplotlib\n",
    "\n",
    "import numpy.polynomial.polynomial as poly\n",
    "import scipy.integrate as integral\n",
    "import scipy.misc as misc"
   ]
  },
  {
   "cell_type": "code",
   "execution_count": 8,
   "metadata": {},
   "outputs": [
    {
     "name": "stdout",
     "output_type": "stream",
     "text": [
      "3.0\n"
     ]
    }
   ],
   "source": [
    "test = poly.Polynomial((1,2)) #1+2*x\n",
    "print(test(1))"
   ]
  },
  {
   "cell_type": "code",
   "execution_count": 9,
   "metadata": {},
   "outputs": [
    {
     "name": "stdout",
     "output_type": "stream",
     "text": [
      "(2.0, 2.220446049250313e-14)\n"
     ]
    }
   ],
   "source": [
    "print(integral.quad(test,0,1)) #integral use"
   ]
  },
  {
   "cell_type": "code",
   "execution_count": 10,
   "metadata": {},
   "outputs": [
    {
     "name": "stdout",
     "output_type": "stream",
     "text": [
      "2.0\n",
      "poly([2.])\n"
     ]
    }
   ],
   "source": [
    "print(misc.derivative(test,2)) #derivative use\n",
    "test2 = test.deriv() #derivative use\n",
    "print(test2)"
   ]
  },
  {
   "cell_type": "code",
   "execution_count": 11,
   "metadata": {},
   "outputs": [
    {
     "ename": "SyntaxError",
     "evalue": "unexpected EOF while parsing (<ipython-input-11-9ed7cbfa12bb>, line 12)",
     "output_type": "error",
     "traceback": [
      "\u001b[1;36m  File \u001b[1;32m\"<ipython-input-11-9ed7cbfa12bb>\"\u001b[1;36m, line \u001b[1;32m12\u001b[0m\n\u001b[1;33m    \u001b[0m\n\u001b[1;37m    ^\u001b[0m\n\u001b[1;31mSyntaxError\u001b[0m\u001b[1;31m:\u001b[0m unexpected EOF while parsing\n"
     ]
    }
   ],
   "source": [
    "spanishU = poly.Polynomial((0,1))\n",
    "\n",
    "epsilon = 0.00001\n",
    "\n",
    "def B(w,v):\n",
    "    return (w(2)*v(2) - integral.quad(w.deriv()*v.deriv(),0,2)[0] + integral.quad(w*v,0,2)[0])\n",
    "\n",
    "def L(v):\n",
    "    return (spanishU(2)*v(2) - integral.quad(spanishU.deriv()*v.deriv(),0,2)[0] + integral.quad(spanishU*v,0,2)[0])\n",
    "\n",
    "def getE(x,h):\n",
    "    "
   ]
  },
  {
   "cell_type": "code",
   "execution_count": null,
   "metadata": {},
   "outputs": [],
   "source": []
  }
 ],
 "metadata": {
  "kernelspec": {
   "display_name": "Python 3",
   "language": "python",
   "name": "python3"
  },
  "language_info": {
   "codemirror_mode": {
    "name": "ipython",
    "version": 3
   },
   "file_extension": ".py",
   "mimetype": "text/x-python",
   "name": "python",
   "nbconvert_exporter": "python",
   "pygments_lexer": "ipython3",
   "version": "3.7.3"
  }
 },
 "nbformat": 4,
 "nbformat_minor": 4
}
